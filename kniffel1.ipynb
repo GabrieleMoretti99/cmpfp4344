{
  "nbformat": 4,
  "nbformat_minor": 0,
  "metadata": {
    "colab": {
      "name": "kniffel1.ipynb",
      "provenance": [],
      "authorship_tag": "ABX9TyOm+ZmBiqDV+ZwWdYQ7bb2L",
      "include_colab_link": true
    },
    "kernelspec": {
      "name": "python3",
      "display_name": "Python 3"
    },
    "language_info": {
      "name": "python"
    }
  },
  "cells": [
    {
      "cell_type": "markdown",
      "metadata": {
        "id": "view-in-github",
        "colab_type": "text"
      },
      "source": [
        "<a href=\"https://colab.research.google.com/github/GabrieleMoretti99/cmpfp4344/blob/master/kniffel1.ipynb\" target=\"_parent\"><img src=\"https://colab.research.google.com/assets/colab-badge.svg\" alt=\"Open In Colab\"/></a>"
      ]
    },
    {
      "cell_type": "code",
      "execution_count": 126,
      "metadata": {
        "colab": {
          "base_uri": "https://localhost:8080/"
        },
        "id": "UU7G2Jk0q5Z5",
        "outputId": "50c0f515-c8ed-488f-ac7c-81738820341f"
      },
      "outputs": [
        {
          "output_type": "stream",
          "name": "stdout",
          "text": [
            "3k\n",
            "3k\n",
            "fh\n",
            "4k\n",
            "fh\n",
            "gs\n",
            "2\n"
          ]
        }
      ],
      "source": [
        "import random as r\n",
        "import math as m\n",
        "\n",
        "class kniffel:\n",
        "  hand=0\n",
        "  def roll(self):\n",
        "    self.hand=[r.randint(1,6) for i in range (5)]\n",
        "    return self.hand\n",
        "\n",
        "  def check(self, hand):\n",
        "    self.counts=[self.hand.count(n) for n in set(hand)]\n",
        "    sorted(self.counts)\n",
        "    return self.counts\n",
        "\n",
        "a=0\n",
        "b=0\n",
        "c=0\n",
        "d=0\n",
        "e=0\n",
        "k=0\n",
        "for n in range (10):\n",
        "  dice=kniffel()\n",
        "  s=dice.roll()    \n",
        "  #print(sorted(a))\n",
        "  #print(dice.check(a))\n",
        "\n",
        "  if dice.check(s)==[1,1,3] or dice.check(s)==[1,3,1] or dice.check(s)==[3,1,1]: \n",
        "    print(\"3k\")\n",
        "    a+=1\n",
        "  elif dice.check(s)==[2,3] or dice.check(s)==[3,2]:\n",
        "    print(\"fh\")\n",
        "    b+=1\n",
        "  elif dice.check(s)==[1,4] or dice.check(s)==[4,1]:\n",
        "    print(\"4k\")\n",
        "    c+=1\n",
        "  elif s==[1,1,1,1,1] or s==[2,2,2,2,2] or s==[3,3,3,3,3] or s==[4,4,4,4,4] or s==[5,5,5,5,5]:\n",
        "    print(\"kn\")\n",
        "    k+=1\n",
        "  elif sorted(s)==[1,2,3,4,5]:\n",
        "    print(\"ks\")\n",
        "    d+=1\n",
        "  elif sorted(s)==[2,3,4,5,6]:\n",
        "    print(\"gs\")  \n",
        "    e+=1\n",
        "\n",
        "\n",
        "\n"
      ]
    }
  ]
}