{
  "nbformat": 4,
  "nbformat_minor": 0,
  "metadata": {
    "colab": {
      "name": "pi_MonteCarlo.ipynb",
      "provenance": [],
      "authorship_tag": "ABX9TyNxfcPt/Gt100m2kcyDJFyb",
      "include_colab_link": true
    },
    "kernelspec": {
      "name": "python3",
      "display_name": "Python 3"
    },
    "language_info": {
      "name": "python"
    }
  },
  "cells": [
    {
      "cell_type": "markdown",
      "metadata": {
        "id": "view-in-github",
        "colab_type": "text"
      },
      "source": [
        "<a href=\"https://colab.research.google.com/github/GabrieleMoretti99/cmpfp4344/blob/master/pi_MonteCarlo.ipynb\" target=\"_parent\"><img src=\"https://colab.research.google.com/assets/colab-badge.svg\" alt=\"Open In Colab\"/></a>"
      ]
    },
    {
      "cell_type": "code",
      "metadata": {
        "colab": {
          "base_uri": "https://localhost:8080/"
        },
        "id": "zYJl9Zctf1mm",
        "outputId": "737a1be6-e26e-4032-97d1-cac740e45933"
      },
      "source": [
        "import random\n",
        "import math\n",
        "\n",
        "i=0\n",
        "j=0\n",
        "for N in range(0,10**6):\n",
        "  x=random.uniform(-1,1)\n",
        "  y=random.uniform(-1,1)\n",
        "  r=x**2+y**2\n",
        "  if r<1:\n",
        "    i+=1\n",
        "  else:\n",
        "    j+=1\n",
        "print(i)\n",
        "print(j)    \n",
        "pi=(i*4)/N\n",
        "print(pi)"
      ],
      "execution_count": 33,
      "outputs": [
        {
          "output_type": "stream",
          "name": "stdout",
          "text": [
            "785959\n",
            "214041\n",
            "3.143839143839144\n"
          ]
        }
      ]
    }
  ]
}