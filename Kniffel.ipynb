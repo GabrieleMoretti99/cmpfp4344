{
  "nbformat": 4,
  "nbformat_minor": 0,
  "metadata": {
    "colab": {
      "name": "Kniffel.ipynb",
      "provenance": [],
      "authorship_tag": "ABX9TyPDTvwMWsOUp3BsPXUgZa8K",
      "include_colab_link": true
    },
    "kernelspec": {
      "name": "python3",
      "display_name": "Python 3"
    },
    "language_info": {
      "name": "python"
    }
  },
  "cells": [
    {
      "cell_type": "markdown",
      "metadata": {
        "id": "view-in-github",
        "colab_type": "text"
      },
      "source": [
        "<a href=\"https://colab.research.google.com/github/GabrieleMoretti99/cmpfp4344/blob/master/Kniffel.ipynb\" target=\"_parent\"><img src=\"https://colab.research.google.com/assets/colab-badge.svg\" alt=\"Open In Colab\"/></a>"
      ]
    },
    {
      "cell_type": "code",
      "metadata": {
        "colab": {
          "base_uri": "https://localhost:8080/"
        },
        "id": "M-6qVzJDjWBZ",
        "outputId": "e84cc0b8-6216-4348-bd58-5e7a0b428c61"
      },
      "source": [
        "import math\n",
        "import random\n",
        "\n",
        "s=[]\n",
        "for i in range(0,5):   #lancio dadi\n",
        "  x=random.randint(1,6)  \n",
        "  #print(x)\n",
        "  s.append(x)\n",
        "  s.sort()\n",
        "#s=[1,1,1,1,1,1]  \n",
        "print(s)\n",
        "a=[1,2,3,4,5]\n",
        "b=[2,3,4,5,6]\n",
        "k=random.randint(1,6)\n",
        "h=random.randint(1,6)\n",
        "y=random.randint(1,6)\n",
        "#K=[k,k,k,k,k]\n",
        "#print(K)\n",
        "if a==s:\n",
        "  print(\"1st combination\")\n",
        "if b==s: \n",
        "  print(\"2nd combination\")\n",
        "if :\n",
        "  print(\"Kniffel\")  \n",
        "if : \n",
        "  print(\"3rd combination\")\n",
        "if :\n",
        "  print(\"4th combination\")  \n",
        "if :\n",
        "  print(\"5th combination\")  "
      ],
      "execution_count": 56,
      "outputs": [
        {
          "output_type": "stream",
          "name": "stdout",
          "text": [
            "[1, 3, 3, 5, 5]\n",
            "Kniffel\n"
          ]
        }
      ]
    }
  ]
}